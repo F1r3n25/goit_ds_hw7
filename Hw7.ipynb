{
  "nbformat": 4,
  "nbformat_minor": 0,
  "metadata": {
    "colab": {
      "provenance": [],
      "gpuType": "T4",
      "authorship_tag": "ABX9TyNFJ0AIyDhHvWnSr7pKAOlG",
      "include_colab_link": true
    },
    "kernelspec": {
      "name": "python3",
      "display_name": "Python 3"
    },
    "language_info": {
      "name": "python"
    },
    "accelerator": "GPU"
  },
  "cells": [
    {
      "cell_type": "markdown",
      "metadata": {
        "id": "view-in-github",
        "colab_type": "text"
      },
      "source": [
        "<a href=\"https://colab.research.google.com/github/F1r3n25/goit_ds_hw7/blob/main/Hw7.ipynb\" target=\"_parent\"><img src=\"https://colab.research.google.com/assets/colab-badge.svg\" alt=\"Open In Colab\"/></a>"
      ]
    },
    {
      "cell_type": "code",
      "execution_count": null,
      "metadata": {
        "id": "r4vlvPWMLsfJ",
        "colab": {
          "base_uri": "https://localhost:8080/"
        },
        "outputId": "b04465b1-64ed-454f-86ab-f87685c1af2e"
      },
      "outputs": [
        {
          "output_type": "stream",
          "name": "stdout",
          "text": [
            "Requirement already satisfied: surprise in /usr/local/lib/python3.10/dist-packages (0.1)\n",
            "Requirement already satisfied: scikit-surprise in /usr/local/lib/python3.10/dist-packages (from surprise) (1.1.3)\n",
            "Requirement already satisfied: joblib>=1.0.0 in /usr/local/lib/python3.10/dist-packages (from scikit-surprise->surprise) (1.3.2)\n",
            "Requirement already satisfied: numpy>=1.17.3 in /usr/local/lib/python3.10/dist-packages (from scikit-surprise->surprise) (1.25.2)\n",
            "Requirement already satisfied: scipy>=1.3.2 in /usr/local/lib/python3.10/dist-packages (from scikit-surprise->surprise) (1.11.4)\n"
          ]
        }
      ],
      "source": [
        "! pip install surprise\n",
        "from surprise import Dataset, SVD\n",
        "from surprise.model_selection import cross_validate\n",
        "from surprise.model_selection import GridSearchCV"
      ]
    },
    {
      "cell_type": "code",
      "source": [
        "from surprise.prediction_algorithms.matrix_factorization import SVD, NMF, SVDpp"
      ],
      "metadata": {
        "id": "ezQ0GE9qPXmo"
      },
      "execution_count": null,
      "outputs": []
    },
    {
      "cell_type": "code",
      "source": [
        "data = Dataset.load_builtin(\"ml-1m\")\n",
        "\n",
        "param_grid_svd = {\"n_epochs\": [5, 10], \"lr_all\": [0.002, 0.005], \"reg_all\": [0.4, 0.6]}\n",
        "param_grid_nmf = {'n_epochs': [5, 10], 'reg_pu': [0.02, 0.04], 'reg_qi': [0.02, 0.04]}"
      ],
      "metadata": {
        "id": "teBhFmOkL7bE"
      },
      "execution_count": null,
      "outputs": []
    },
    {
      "cell_type": "code",
      "source": [
        "gs_svd = GridSearchCV(SVD, param_grid_svd, measures=['rmse', 'mae'], cv=5)\n",
        "gs_svd.fit(data)\n",
        "\n",
        "gs_nmf = GridSearchCV(NMF, param_grid_nmf, measures=['rmse', 'mae'], cv=5)\n",
        "gs_nmf.fit(data)\n",
        "\n",
        "# gs_svdpp = GridSearchCV(SVDpp, param_grid_svd, measures=['rmse', 'mae'], cv=5)\n",
        "# gs_svdpp.fit(data)\n",
        "\n",
        "print(\"Best parameters for SVD:\", gs_svd.best_params['rmse'])\n",
        "print(\"Best parameters for NMF:\", gs_nmf.best_params['rmse'])\n",
        "# print(\"Best parameters for SVD++:\", gs_svdpp.best_params['rmse'])\n",
        "\n",
        "print(\"Best RMSE for SVD:\", gs_svd.best_score['rmse'])\n",
        "print(\"Best RMSE for NMF:\", gs_nmf.best_score['rmse'])\n",
        "# print(\"Best RMSE for SVD++:\", gs_svdpp.best_score['rmse'])"
      ],
      "metadata": {
        "id": "hJ_oGNGVenfH",
        "colab": {
          "base_uri": "https://localhost:8080/"
        },
        "outputId": "c419f76d-cdbe-4096-e758-ecaa26b2bf09"
      },
      "execution_count": null,
      "outputs": [
        {
          "output_type": "stream",
          "name": "stdout",
          "text": [
            "Best parameters for SVD: {'n_epochs': 10, 'lr_all': 0.005, 'reg_all': 0.4}\n",
            "Best parameters for NMF: {'n_epochs': 10, 'reg_pu': 0.04, 'reg_qi': 0.04}\n",
            "Best RMSE for SVD: 0.9290184870492221\n",
            "Best RMSE for NMF: 0.9638577222093657\n"
          ]
        }
      ]
    }
  ]
}